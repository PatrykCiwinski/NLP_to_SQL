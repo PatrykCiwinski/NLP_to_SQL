{
  "nbformat": 4,
  "nbformat_minor": 0,
  "metadata": {
    "colab": {
      "provenance": [],
      "authorship_tag": "ABX9TyNbkb7aSiPCXUiLX2TSSd4P",
      "include_colab_link": true
    },
    "kernelspec": {
      "name": "python3",
      "display_name": "Python 3"
    },
    "language_info": {
      "name": "python"
    }
  },
  "cells": [
    {
      "cell_type": "markdown",
      "metadata": {
        "id": "view-in-github",
        "colab_type": "text"
      },
      "source": [
        "<a href=\"https://colab.research.google.com/github/PatrykCiwinski/NLP_to_SQL/blob/main/sql_openAI.ipynb\" target=\"_parent\"><img src=\"https://colab.research.google.com/assets/colab-badge.svg\" alt=\"Open In Colab\"/></a>"
      ]
    },
    {
      "cell_type": "code",
      "source": [
        "##Necessary imports"
      ],
      "metadata": {
        "id": "Hhu_nfnTQ1m_"
      },
      "execution_count": null,
      "outputs": []
    },
    {
      "cell_type": "code",
      "source": [
        "import openai"
      ],
      "metadata": {
        "id": "LMpn4gdDQ74-"
      },
      "execution_count": null,
      "outputs": []
    },
    {
      "cell_type": "code",
      "source": [
        "from dotenv import dotenv_values"
      ],
      "metadata": {
        "id": "_qsUNlBRRAqc"
      },
      "execution_count": null,
      "outputs": []
    },
    {
      "cell_type": "code",
      "source": [
        "config = dotenv_values('.env')"
      ],
      "metadata": {
        "id": "_GGYaNoZRH7Z"
      },
      "execution_count": null,
      "outputs": []
    },
    {
      "cell_type": "code",
      "source": [
        "openai.api_key=config['OPENAI_API_KEY']"
      ],
      "metadata": {
        "id": "iBUopohiRI1j"
      },
      "execution_count": null,
      "outputs": []
    },
    {
      "cell_type": "code",
      "source": [
        "import pandas as pd"
      ],
      "metadata": {
        "id": "_-7afK4oRLTK"
      },
      "execution_count": null,
      "outputs": []
    },
    {
      "cell_type": "code",
      "source": [
        "##Creating data frame"
      ],
      "metadata": {
        "id": "habsQ8eUROKu"
      },
      "execution_count": null,
      "outputs": []
    },
    {
      "cell_type": "code",
      "source": [
        "df = pd.read_csv('sales_data_sample.csv', encoding='cp437')"
      ],
      "metadata": {
        "id": "F5Qv57WQRQ9b"
      },
      "execution_count": null,
      "outputs": []
    },
    {
      "cell_type": "code",
      "source": [
        "##Connecting to date base , which is crated in memory."
      ],
      "metadata": {
        "id": "GQMPM7DKRTHe"
      },
      "execution_count": null,
      "outputs": []
    },
    {
      "cell_type": "code",
      "source": [
        "from sqlalchemy import create_engine\n",
        "from sqlalchemy import text"
      ],
      "metadata": {
        "id": "CQ26ffywRhsQ"
      },
      "execution_count": null,
      "outputs": []
    },
    {
      "cell_type": "code",
      "source": [
        "import sqlalchemy"
      ],
      "metadata": {
        "id": "4y_SR3c4RkaC"
      },
      "execution_count": null,
      "outputs": []
    },
    {
      "cell_type": "code",
      "source": [
        "temporary_db = create_engine('sqlite:///:memory:',echo=True)"
      ],
      "metadata": {
        "id": "DHHQGLVlRnb7"
      },
      "execution_count": null,
      "outputs": []
    },
    {
      "cell_type": "code",
      "source": [
        "data = df.to_sql('Sales',con=temporary_db)"
      ],
      "metadata": {
        "id": "KS0-Ge7KRVSW"
      },
      "execution_count": null,
      "outputs": []
    },
    {
      "cell_type": "code",
      "source": [
        "with temporary_db.connect() as conn:\n",
        "    result=conn.execute(text('SELECT * from Sales'))"
      ],
      "metadata": {
        "id": "fdLo7Sv9ReOy"
      },
      "execution_count": null,
      "outputs": []
    },
    {
      "cell_type": "code",
      "source": [
        "##We are showing the definition of table, so openai is aware of it"
      ],
      "metadata": {
        "id": "_xGtcznTRvKq"
      },
      "execution_count": null,
      "outputs": []
    },
    {
      "cell_type": "code",
      "source": [
        "def create_definition(db):\n",
        "    prompt=\"\"\"\n",
        "    #Sales({})\n",
        "    \"\"\".format(','.join(str(col)for col in result.keys()))\n",
        "    return prompt"
      ],
      "metadata": {
        "id": "cCl7GX49RyOS"
      },
      "execution_count": null,
      "outputs": []
    },
    {
      "cell_type": "code",
      "source": [
        "##Now we are combining this definition and input from user"
      ],
      "metadata": {
        "id": "OfDujbcGR1Lo"
      },
      "execution_count": null,
      "outputs": []
    },
    {
      "cell_type": "code",
      "source": [
        "def prompt_input():\n",
        "    nlp_text = input('What do you want to do?: ')\n",
        "    return nlp_text"
      ],
      "metadata": {
        "id": "ZUSEAUvER7Xr"
      },
      "execution_count": null,
      "outputs": []
    },
    {
      "cell_type": "code",
      "source": [
        "def combine(df,prompt_input):\n",
        "    definition = create_definition(df)\n",
        "    query=f'Query to answer: {prompt_input()}'\n",
        "    return definition+query"
      ],
      "metadata": {
        "id": "o1F0Mm0rR8BC"
      },
      "execution_count": null,
      "outputs": []
    },
    {
      "cell_type": "code",
      "source": [
        "response=openai.Completion.create(\n",
        "model='text-davinci-003',\n",
        "prompt=combine(df,prompt_input),\n",
        "temperature=0,\n",
        "max_tokens=150,\n",
        "frequency_penalty=0,\n",
        "presence_penalty=0,\n",
        "stop=['#',';'],\n",
        "n=1)"
      ],
      "metadata": {
        "id": "ZaNhNkFOSZVS"
      },
      "execution_count": null,
      "outputs": []
    },
    {
      "cell_type": "code",
      "source": [
        "response"
      ],
      "metadata": {
        "id": "2pv8jiIqSdaQ"
      },
      "execution_count": null,
      "outputs": []
    },
    {
      "cell_type": "code",
      "source": [
        "##Now we have response from openai model, we can apply it (return sql query function) on our table"
      ],
      "metadata": {
        "id": "eSCy2K62R-kS"
      },
      "execution_count": null,
      "outputs": []
    },
    {
      "cell_type": "code",
      "source": [
        "def return_sql_query(response):\n",
        "    query=response['choices'][0]['text']\n",
        "    if query.startswith(' '):\n",
        "        query='SELECT'+query\n",
        "    return query"
      ],
      "metadata": {
        "id": "Hzx_duHbSTaE"
      },
      "execution_count": null,
      "outputs": []
    },
    {
      "cell_type": "code",
      "source": [
        "with temporary_db.connect() as conn:\n",
        "    result = conn.execute(text(return_sql_query(response)))"
      ],
      "metadata": {
        "id": "Dv8GSdeYSglh"
      },
      "execution_count": null,
      "outputs": []
    },
    {
      "cell_type": "code",
      "source": [
        "##We can see results from applied query"
      ],
      "metadata": {
        "id": "EiPVrQZvSmtk"
      },
      "execution_count": null,
      "outputs": []
    },
    {
      "cell_type": "code",
      "source": [
        "result.all()"
      ],
      "metadata": {
        "id": "jlQBcfB6SpG8"
      },
      "execution_count": null,
      "outputs": []
    }
  ]
}