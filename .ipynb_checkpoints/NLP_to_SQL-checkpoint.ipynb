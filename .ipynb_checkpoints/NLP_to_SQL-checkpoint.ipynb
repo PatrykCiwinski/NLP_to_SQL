{
 "cells": [
  {
   "cell_type": "code",
   "execution_count": 1,
   "id": "089642b9",
   "metadata": {},
   "outputs": [],
   "source": [
    "import openai"
   ]
  },
  {
   "cell_type": "code",
   "execution_count": 2,
   "id": "b8e23891",
   "metadata": {},
   "outputs": [],
   "source": [
    "from dotenv import dotenv_values"
   ]
  },
  {
   "cell_type": "code",
   "execution_count": 5,
   "id": "7e378fc6",
   "metadata": {},
   "outputs": [],
   "source": [
    "config = dotenv_values('.env')"
   ]
  },
  {
   "cell_type": "code",
   "execution_count": 4,
   "id": "f4d68946",
   "metadata": {},
   "outputs": [
    {
     "ename": "KeyError",
     "evalue": "'OPENAI_API_KEY'",
     "output_type": "error",
     "traceback": [
      "\u001b[1;31m---------------------------------------------------------------------------\u001b[0m",
      "\u001b[1;31mKeyError\u001b[0m                                  Traceback (most recent call last)",
      "\u001b[1;32m~\\AppData\\Local\\Temp\\ipykernel_5176\\1010915348.py\u001b[0m in \u001b[0;36m<module>\u001b[1;34m\u001b[0m\n\u001b[1;32m----> 1\u001b[1;33m \u001b[0mopenai\u001b[0m\u001b[1;33m.\u001b[0m\u001b[0mapi_key\u001b[0m\u001b[1;33m=\u001b[0m\u001b[0mconfig\u001b[0m\u001b[1;33m[\u001b[0m\u001b[1;34m'OPENAI_API_KEY'\u001b[0m\u001b[1;33m]\u001b[0m\u001b[1;33m\u001b[0m\u001b[1;33m\u001b[0m\u001b[0m\n\u001b[0m",
      "\u001b[1;31mKeyError\u001b[0m: 'OPENAI_API_KEY'"
     ]
    }
   ],
   "source": [
    "openai.api_key=config['OPENAI_API_KEY']"
   ]
  },
  {
   "cell_type": "code",
   "execution_count": null,
   "id": "f90b73b2",
   "metadata": {},
   "outputs": [],
   "source": [
    "import pandas as pd"
   ]
  },
  {
   "cell_type": "code",
   "execution_count": null,
   "id": "87d028f4",
   "metadata": {},
   "outputs": [],
   "source": [
    "df = pd.read_csv('sales_data_sample.csv', encoding='cp437')"
   ]
  },
  {
   "cell_type": "code",
   "execution_count": null,
   "id": "801c59bf",
   "metadata": {},
   "outputs": [],
   "source": [
    "df.head()"
   ]
  },
  {
   "cell_type": "code",
   "execution_count": null,
   "id": "a5502f4a",
   "metadata": {},
   "outputs": [],
   "source": [
    "from sqlalchemy import create_engine\n",
    "from sqlalchemy import text"
   ]
  },
  {
   "cell_type": "code",
   "execution_count": null,
   "id": "c3726162",
   "metadata": {},
   "outputs": [],
   "source": [
    "import sqlalchemy"
   ]
  },
  {
   "cell_type": "code",
   "execution_count": null,
   "id": "b40751d5",
   "metadata": {},
   "outputs": [],
   "source": [
    "temporary_db = create_engine('sqlite:///:memory:',echo=True)"
   ]
  },
  {
   "cell_type": "code",
   "execution_count": null,
   "id": "931ef449",
   "metadata": {
    "scrolled": true
   },
   "outputs": [],
   "source": [
    "data = df.to_sql(name='Sales',con=temporary_db)"
   ]
  },
  {
   "cell_type": "code",
   "execution_count": null,
   "id": "45dbb814",
   "metadata": {},
   "outputs": [],
   "source": [
    "with temporary_db.connect() as conn:\n",
    "    result=conn.execute(text('SELECT SUM(SALES) from Sales'))"
   ]
  },
  {
   "cell_type": "code",
   "execution_count": null,
   "id": "3d21916d",
   "metadata": {},
   "outputs": [],
   "source": [
    "def create_definition(df):\n",
    "    prompt=\"\"\"\n",
    "    #Sales({})\n",
    "    \"\"\".format(','.join(str(col)for col in df.columns))\n",
    "    return prompt"
   ]
  },
  {
   "cell_type": "code",
   "execution_count": null,
   "id": "fb3bed76",
   "metadata": {},
   "outputs": [],
   "source": [
    "crate_definition(df)"
   ]
  },
  {
   "cell_type": "code",
   "execution_count": null,
   "id": "18c8b62b",
   "metadata": {},
   "outputs": [],
   "source": [
    "def prompt_input():\n",
    "    nlp_text = input('What do you want to do?: ')\n",
    "    return nlp_text"
   ]
  },
  {
   "cell_type": "code",
   "execution_count": null,
   "id": "b210cd0c",
   "metadata": {},
   "outputs": [],
   "source": [
    "prompt_input()"
   ]
  },
  {
   "cell_type": "code",
   "execution_count": null,
   "id": "9d8b8e41",
   "metadata": {},
   "outputs": [],
   "source": [
    "def combine(df,prompt_input):\n",
    "    definition = create_definition(df)\n",
    "    query=f'Query to answer: {prompt_input()} SELECT'\n",
    "    return definition+query"
   ]
  },
  {
   "cell_type": "code",
   "execution_count": null,
   "id": "b9143ff1",
   "metadata": {},
   "outputs": [],
   "source": [
    "combine(df,prompt_input)"
   ]
  },
  {
   "cell_type": "code",
   "execution_count": null,
   "id": "9e948605",
   "metadata": {},
   "outputs": [],
   "source": [
    "response=openai.Completion.create(\n",
    "model='text-davinci-003',\n",
    "prompt=combine(df,prompt_input),\n",
    "temperature=0,\n",
    "max_tokens=150,\n",
    "frequency_penalty=0,\n",
    "presence_penalty=0,\n",
    "stop=['#',';'])"
   ]
  },
  {
   "cell_type": "code",
   "execution_count": null,
   "id": "01cc3f82",
   "metadata": {},
   "outputs": [],
   "source": [
    "response['choices'][0]['text']"
   ]
  },
  {
   "cell_type": "code",
   "execution_count": null,
   "id": "5f072326",
   "metadata": {},
   "outputs": [],
   "source": [
    "def return_sql_query(response):\n",
    "    query=response['choices'][0]['text']\n",
    "    if query.startswith(' '):\n",
    "        query='SELECT'+query\n",
    "    return query"
   ]
  },
  {
   "cell_type": "code",
   "execution_count": null,
   "id": "2f8e17d0",
   "metadata": {},
   "outputs": [],
   "source": [
    "return_sql_query(response)"
   ]
  },
  {
   "cell_type": "code",
   "execution_count": null,
   "id": "698aa343",
   "metadata": {},
   "outputs": [],
   "source": [
    "with temporary_db.connect() as conn:\n",
    "    result = conn.execute(text(return_sql_query(response)))"
   ]
  },
  {
   "cell_type": "code",
   "execution_count": null,
   "id": "5a3ad152",
   "metadata": {},
   "outputs": [],
   "source": [
    "result.all()"
   ]
  },
  {
   "cell_type": "code",
   "execution_count": null,
   "id": "e7884f52",
   "metadata": {},
   "outputs": [],
   "source": []
  },
  {
   "cell_type": "code",
   "execution_count": null,
   "id": "a5d20af9",
   "metadata": {},
   "outputs": [],
   "source": []
  },
  {
   "cell_type": "code",
   "execution_count": null,
   "id": "13071d7e",
   "metadata": {},
   "outputs": [],
   "source": []
  },
  {
   "cell_type": "code",
   "execution_count": null,
   "id": "8998a5a1",
   "metadata": {},
   "outputs": [],
   "source": []
  },
  {
   "cell_type": "code",
   "execution_count": null,
   "id": "db4bfe33",
   "metadata": {},
   "outputs": [],
   "source": []
  },
  {
   "cell_type": "code",
   "execution_count": null,
   "id": "7099ecad",
   "metadata": {},
   "outputs": [],
   "source": []
  },
  {
   "cell_type": "code",
   "execution_count": null,
   "id": "deef087e",
   "metadata": {},
   "outputs": [],
   "source": []
  },
  {
   "cell_type": "code",
   "execution_count": null,
   "id": "0dc3ebd5",
   "metadata": {},
   "outputs": [],
   "source": []
  },
  {
   "cell_type": "code",
   "execution_count": null,
   "id": "1ba6d23a",
   "metadata": {},
   "outputs": [],
   "source": []
  },
  {
   "cell_type": "code",
   "execution_count": null,
   "id": "a60fae61",
   "metadata": {},
   "outputs": [],
   "source": []
  },
  {
   "cell_type": "code",
   "execution_count": null,
   "id": "0202d41e",
   "metadata": {},
   "outputs": [],
   "source": []
  },
  {
   "cell_type": "code",
   "execution_count": null,
   "id": "ca76c4d0",
   "metadata": {},
   "outputs": [],
   "source": []
  },
  {
   "cell_type": "code",
   "execution_count": null,
   "id": "3cd1ee68",
   "metadata": {},
   "outputs": [],
   "source": []
  },
  {
   "cell_type": "code",
   "execution_count": null,
   "id": "cfa0a82b",
   "metadata": {},
   "outputs": [],
   "source": []
  }
 ],
 "metadata": {
  "kernelspec": {
   "display_name": "Python 3 (ipykernel)",
   "language": "python",
   "name": "python3"
  },
  "language_info": {
   "codemirror_mode": {
    "name": "ipython",
    "version": 3
   },
   "file_extension": ".py",
   "mimetype": "text/x-python",
   "name": "python",
   "nbconvert_exporter": "python",
   "pygments_lexer": "ipython3",
   "version": "3.9.13"
  }
 },
 "nbformat": 4,
 "nbformat_minor": 5
}
